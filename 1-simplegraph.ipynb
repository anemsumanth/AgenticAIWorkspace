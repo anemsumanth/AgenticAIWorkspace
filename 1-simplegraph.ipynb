{
 "cells": [
  {
   "cell_type": "markdown",
   "id": "9f6877ea",
   "metadata": {},
   "source": [
    "### Build a Simple Workflow or Graph Using LangGraph\n",
    "\n",
    "#### State\n",
    "First, define the State of the graph.\n",
    "\n",
    "The State schema serves as the input schema for all Nodes and Edges in the graph.\n",
    "\n",
    "Let's use the TypedDict class from python's typing module as our schema, which provides type hints for the keys."
   ]
  },
  {
   "cell_type": "code",
   "execution_count": 38,
   "id": "772ef8a0",
   "metadata": {},
   "outputs": [],
   "source": [
    "from typing_extensions import TypedDict\n",
    "\n",
    "class State(TypedDict):\n",
    "    graph_info:str\n",
    "  "
   ]
  },
  {
   "cell_type": "markdown",
   "id": "5d4b32b9",
   "metadata": {},
   "source": [
    "#### Nodes\n",
    "Nodes are just python functions.\n",
    "\n",
    "The first positional argument is the state, as defined above.\n",
    "\n",
    "Because the state is a TypedDict with schema as defined above, each node can access the key, graph_state, with state['graph_state'].\n",
    "\n",
    "Each node returns a new value of the state key graph_state.\n",
    "\n",
    "By default, the new value returned by each node will override the prior state value."
   ]
  },
  {
   "cell_type": "code",
   "execution_count": 32,
   "id": "7f1ba022",
   "metadata": {},
   "outputs": [],
   "source": [
    "def start_play(state:State):\n",
    "    print(\"start_play node has been called\")\n",
    "    return {\"graph_info\":state[\"graph_info\"]+\"This is a simple graph example.\"}\n",
    "\n",
    "def cricket(state:State):\n",
    "    print(\"cricket node has been called\")\n",
    "    return {\"graph_info\":state[\"graph_info\"]+\"I love cricket.\"} \n",
    "\n",
    "def batminton(state:State):\n",
    "    print(\"badminton node has been called\")\n",
    "    return {\"graph_info\":state[\"graph_info\"]+\"I love badminton.\"}\n"
   ]
  },
  {
   "cell_type": "code",
   "execution_count": 41,
   "id": "268cd5ad",
   "metadata": {},
   "outputs": [],
   "source": [
    "# Make sure the cell defining State is executed before running this cell\n",
    "\n",
    "import random\n",
    "from typing import Literal\n",
    "\n",
    "try:\n",
    "    State\n",
    "except NameError:\n",
    "    from typing_extensions import TypedDict\n",
    "    class State(TypedDict):\n",
    "        graph_info: str\n",
    "\n",
    "def random_play(state: State) -> Literal['cricket', 'badminton']:\n",
    "    graph_info = state['graph_info']\n",
    "\n",
    "    if random.random() > 0.5:\n",
    "        return \"cricket\"\n",
    "    else:\n",
    "        return \"badminton\""
   ]
  },
  {
   "cell_type": "code",
   "execution_count": 47,
   "id": "9c182998",
   "metadata": {},
   "outputs": [
    {
     "data": {
      "image/png": "[encoded data removed]",
      "text/plain": [
       "<IPython.core.display.Image object>"
      ]
     },
     "metadata": {},
     "output_type": "display_data"
    }
   ],
   "source": [
    "#%pip install langgraph\n",
    "\n",
    "from IPython.display import display, Image\n",
    "from langgraph.graph import StateGraph, START, END\n",
    "\n",
    "# BUILDING GRAPH\n",
    "graph = StateGraph(State)\n",
    "\n",
    "# adding nodes  \n",
    "graph.add_node(\"start_play\", start_play)\n",
    "graph.add_node(\"cricket\", cricket)\n",
    "graph.add_node(\"badminton\", batminton)\n",
    "graph.add_node(\"random_play\", random_play)\n",
    "\n",
    "# adding edges  \n",
    "graph.add_edge(START, \"start_play\")\n",
    "graph.add_conditional_edges(\"start_play\", random_play)\n",
    "graph.add_edge(\"cricket\", END)\n",
    "graph.add_edge(\"badminton\", END)\n",
    "\n",
    "\n",
    "\n",
    "## Compile the graph\n",
    "graph_builder=graph.compile()\n",
    "\n",
    "## View\n",
    "display(Image(graph_builder.get_graph().draw_mermaid_png()))\n"
   ]
  },
  {
   "cell_type": "code",
   "execution_count": 46,
   "id": "57734117",
   "metadata": {},
   "outputs": [
    {
     "name": "stdout",
     "output_type": "stream",
     "text": [
      "start_play node has been called\n",
      "badminton node has been called\n"
     ]
    },
    {
     "data": {
      "text/plain": [
       "{'graph_info': 'my name is Anems. This is a simple graph example.I love badminton.'}"
      ]
     },
     "execution_count": 46,
     "metadata": {},
     "output_type": "execute_result"
    }
   ],
   "source": [
    "### graph invocation\n",
    "\n",
    "graph_builder.invoke({\"graph_info\":\"my name is Anems. \"})"
   ]
  }
 ],
 "metadata": {
  "kernelspec": {
   "display_name": ".venv",
   "language": "python",
   "name": "python3"
  },
  "language_info": {
   "codemirror_mode": {
    "name": "ipython",
    "version": 3
   },
   "file_extension": ".py",
   "mimetype": "text/x-python",
   "name": "python",
   "nbconvert_exporter": "python",
   "pygments_lexer": "ipython3",
   "version": "3.13.7"
  }
 },
 "nbformat": 4,
 "nbformat_minor": 5
}
